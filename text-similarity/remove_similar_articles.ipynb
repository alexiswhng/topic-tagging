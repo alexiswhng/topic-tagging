{
 "cells": [
  {
   "cell_type": "code",
   "execution_count": 1,
   "id": "0507b2b2",
   "metadata": {},
   "outputs": [],
   "source": [
    "import nltk\n",
    "from nltk.corpus import stopwords\n",
    "from nltk.tokenize import word_tokenize\n",
    "from nltk.stem import WordNetLemmatizer\n",
    "from collections import defaultdict"
   ]
  },
  {
   "cell_type": "code",
   "execution_count": 2,
   "id": "74a2ed91",
   "metadata": {},
   "outputs": [],
   "source": [
    "# Sample list of articles\n",
    "articles = [\"Mastercard unveils international payment tools\", \n",
    "            \"JPMorgan Chase boss Dimon hails 'groundbreaking' AI\", \n",
    "            \"Visa partners PayPal for interoperable P2P payments\",\n",
    "            \"JPMorgan Chase looks to quantum tech for deep hedging\",\n",
    "            \"Wells Fargo to Participate in Nacha’s Smarter Faster Payments Conference\",\n",
    "            \"Visa partners PayPal for interoperable P2P payments\",\n",
    "            \"Visa and Partners Bring Interoperability to Digital Person-to-Person Payments\",\n",
    "            \"Visa partners with PayPal, Venmo, and others to power interoperable digital payments\",\n",
    "            \"Mastercard's Cross-Border Services Express Helps Modernize International Payments\",\n",
    "            \"Mastercard makes sustainable card pledge.\",\n",
    "            \"BMO Launches Industry Leading Digital Pre-Arrival Account Opening Capability for Newcomers to Canada\"\n",
    "           ]"
   ]
  },
  {
   "cell_type": "code",
   "execution_count": 3,
   "id": "f314dc2e",
   "metadata": {},
   "outputs": [],
   "source": [
    "# Define function to preprocess and tokenize text\n",
    "def preprocess_text(text):\n",
    "    # Convert to lowercase\n",
    "    text = text.lower()\n",
    "    # Tokenize text\n",
    "    tokens = word_tokenize(text)\n",
    "    # Remove stop words\n",
    "    stop_words = set(stopwords.words('english'))\n",
    "    tokens = [token for token in tokens if not token in stop_words]\n",
    "    # Lemmatize words\n",
    "    lemmatizer = WordNetLemmatizer()\n",
    "    tokens = [lemmatizer.lemmatize(token) for token in tokens]\n",
    "    # Join tokens back into string\n",
    "    text = \" \".join(tokens)\n",
    "    return text"
   ]
  },
  {
   "cell_type": "code",
   "execution_count": 4,
   "id": "35acbaa0",
   "metadata": {},
   "outputs": [],
   "source": [
    "# Define function to compare articles\n",
    "def compare_articles(articles):\n",
    "    # Create dictionary to store article similarities\n",
    "    similarities = defaultdict(set)\n",
    "    # Loop through each article\n",
    "    for i, article1 in enumerate(articles):\n",
    "        # Preprocess and tokenize article\n",
    "        article1_tokens = set(preprocess_text(article1).split())\n",
    "        # Compare to other articles\n",
    "        for j in range(i+1, len(articles)):\n",
    "            article2_tokens = set(preprocess_text(articles[j]).split())\n",
    "            # Calculate similarity using Jaccard similarity coefficient\n",
    "            similarity = len(article1_tokens.intersection(article2_tokens)) / len(article1_tokens.union(article2_tokens))\n",
    "            # Add articles to dictionary if similarity threshold is met\n",
    "            print(similarity)\n",
    "            if similarity > 0.2:\n",
    "                similarities[article1].add(articles[j])\n",
    "    return similarities"
   ]
  },
  {
   "cell_type": "code",
   "execution_count": 5,
   "id": "34ecfcb6",
   "metadata": {},
   "outputs": [],
   "source": [
    "# Remove duplicates from list of articles\n",
    "def remove_duplicates(articles):\n",
    "    # Get similarities between articles\n",
    "    similarities = compare_articles(articles)\n",
    "    # Create set of duplicates\n",
    "    duplicates = set()\n",
    "    for key, values in similarities.items():\n",
    "        for value in values:\n",
    "            duplicates.add(value)\n",
    "    # Remove duplicates from list of articles\n",
    "    unique_articles = [article for article in articles if article not in duplicates]\n",
    "    return unique_articles"
   ]
  },
  {
   "cell_type": "code",
   "execution_count": 6,
   "id": "5ebd0978",
   "metadata": {},
   "outputs": [
    {
     "name": "stdout",
     "output_type": "stream",
     "text": [
      "0.0\n",
      "0.1\n",
      "0.0\n",
      "0.07692307692307693\n",
      "0.1\n",
      "0.09090909090909091\n",
      "0.07142857142857142\n",
      "0.2727272727272727\n",
      "0.1\n",
      "0.0\n",
      "0.0\n",
      "0.15384615384615385\n",
      "0.0\n",
      "0.0\n",
      "0.0\n",
      "0.0\n",
      "0.0\n",
      "0.0\n",
      "0.0\n",
      "0.0\n",
      "0.07142857142857142\n",
      "1.0\n",
      "0.3\n",
      "0.45454545454545453\n",
      "0.07142857142857142\n",
      "0.0\n",
      "0.0\n",
      "0.0\n",
      "0.0\n",
      "0.0\n",
      "0.0\n",
      "0.0\n",
      "0.0\n",
      "0.0\n",
      "0.07142857142857142\n",
      "0.06666666666666667\n",
      "0.05555555555555555\n",
      "0.058823529411764705\n",
      "0.0\n",
      "0.0\n",
      "0.3\n",
      "0.45454545454545453\n",
      "0.07142857142857142\n",
      "0.0\n",
      "0.0\n",
      "0.3076923076923077\n",
      "0.06666666666666667\n",
      "0.0\n",
      "0.058823529411764705\n",
      "0.05555555555555555\n",
      "0.0\n",
      "0.05\n",
      "0.07142857142857142\n",
      "0.0\n",
      "0.0\n"
     ]
    }
   ],
   "source": [
    "# Call remove_duplicates function\n",
    "unique_articles = remove_duplicates(articles)\n"
   ]
  },
  {
   "cell_type": "code",
   "execution_count": 8,
   "id": "15982233",
   "metadata": {},
   "outputs": [
    {
     "data": {
      "text/plain": [
       "['Mastercard unveils international payment tools',\n",
       " \"JPMorgan Chase boss Dimon hails 'groundbreaking' AI\",\n",
       " 'JPMorgan Chase looks to quantum tech for deep hedging',\n",
       " 'Wells Fargo to Participate in Nacha’s Smarter Faster Payments Conference',\n",
       " 'Mastercard makes sustainable card pledge.',\n",
       " 'BMO Launches Industry Leading Digital Pre-Arrival Account Opening Capability for Newcomers to Canada']"
      ]
     },
     "execution_count": 8,
     "metadata": {},
     "output_type": "execute_result"
    }
   ],
   "source": [
    "unique_articles"
   ]
  },
  {
   "cell_type": "code",
   "execution_count": null,
   "id": "47b76978",
   "metadata": {},
   "outputs": [],
   "source": []
  }
 ],
 "metadata": {
  "kernelspec": {
   "display_name": "py39",
   "language": "python",
   "name": "py39"
  },
  "language_info": {
   "codemirror_mode": {
    "name": "ipython",
    "version": 3
   },
   "file_extension": ".py",
   "mimetype": "text/x-python",
   "name": "python",
   "nbconvert_exporter": "python",
   "pygments_lexer": "ipython3",
   "version": "3.9.16"
  }
 },
 "nbformat": 4,
 "nbformat_minor": 5
}
