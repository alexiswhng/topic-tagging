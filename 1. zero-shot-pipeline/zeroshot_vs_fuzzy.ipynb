{
 "cells": [
  {
   "cell_type": "markdown",
   "id": "90236923",
   "metadata": {},
   "source": [
    "# Import Libraries "
   ]
  },
  {
   "cell_type": "code",
   "execution_count": 1,
   "id": "ba35ee46",
   "metadata": {},
   "outputs": [],
   "source": [
    "import pandas as pd\n",
    "import numpy as np\n",
    "\n",
    "from datetime import time\n",
    "from datetime import datetime\n",
    "from datetime import date\n",
    "from dateutil import parser\n",
    "import feedparser as fp\n",
    "import pprint\n",
    "import requests\n",
    "\n",
    "#for zero-shot classification\n",
    "from transformers import pipeline\n",
    "\n",
    "#for fuzzy wuzzy\n",
    "from fuzzywuzzy import fuzz\n",
    "from fuzzywuzzy import process"
   ]
  },
  {
   "cell_type": "markdown",
   "id": "fa994cf1",
   "metadata": {},
   "source": [
    "# Creating Sample Dataset"
   ]
  },
  {
   "cell_type": "code",
   "execution_count": 25,
   "id": "7b5fe695",
   "metadata": {},
   "outputs": [],
   "source": [
    "rss = \"https://www.finextra.com/rss/headlines.aspx\"\n",
    "# source = fp.parse(rss)\n",
    "\n",
    "\n",
    "response = requests.get(rss)\n",
    "source = fp.parse(response.content)"
   ]
  },
  {
   "cell_type": "code",
   "execution_count": 26,
   "id": "1008b2be",
   "metadata": {},
   "outputs": [
    {
     "name": "stdout",
     "output_type": "stream",
     "text": [
      "Lloyds tells employees to be back in office two days a week\n",
      "NextGen Nordics: Cross border payments are a political weapon\n",
      "Generative AI governance targeted in proposed EU rules\n",
      "DoJ investigates Mastercard debit card programme\n",
      "Austrade and SFA launch fintech collaboration initiative\n",
      "Amazon stock plummets amid cloud slowdown\n",
      "HM Treasury opens consultation for taxing DeFi cryptoassets\n",
      "Sweden's BankID launches digital identity card\n",
      "Digital wallet infrastructure platform Ansa emerges from stealth\n",
      "Visa staffs up for 'ambitious' crypto plans\n",
      "JPMorgan uses ChatGPT to analyse Fed speeches - Bloomberg.\n",
      "IDPartner raises $3.1m for bank-based ID verification system\n",
      "ASX updates on Chess replacement partnership programme\n",
      "Paysend opens Dublin office\n",
      "Lanistar appoints Ed Blankson as new CFO\n",
      "Binance launches AI-driven Web3 education tool\n",
      "LATAM fintech Clara raises $60m\n",
      "Techcombank and Personetics partner for AI-driven money management\n",
      "TransferMate secures e-money licence from Central Bank o Ireland\n",
      "Sila partners Sivo on debt financing\n",
      "Zenoo unveils white label version of digital onboarding platform\n",
      "Tyfone scores investment from Demopolis and merges with Cubus Solutions\n",
      "Glia introduces voice banking virtual assistants\n",
      "Accelerated Payments releases new trade finance product\n",
      "What the P27 set-back means for Nordic harmonisation\n",
      "Keeping up the momentum with Open Banking\n",
      "The Emerging Technologies Reshaping Financial Services\n",
      "Removing barriers and addressing inclusion for fintech growth\n",
      "Examining the Real Value Proposition of Crypto and Digital Assets\n",
      "Are CBDCs a Risk or an Opportunity for Capital Markets?\n",
      "Embedded Finance: Who is Leading the Payments Revolution?\n",
      "Innovation in Times of Uncertainty: What Today's Economic Environment means for FinTech\n",
      "Scaling with Purpose: Building a positive culture and proper governance through growth\n",
      "Key learnings from the SVB failure crisis\n",
      "'Game of Loans' - Are Neobanks Still Challenging?\n",
      "Building the banking business models of the Future\n",
      "Weathering the 'Fintech Winter' and beyond\n",
      "Cloud-native: How can banks achieve efficiency?\n",
      "ISO 20022 evolution: How to ensure interoperability\n",
      "Payments modernisation: how banks are hitting refresh\n",
      "Real-time payments: How banks and FIs can win competitive advantage\n",
      "Fintech vs. Banking: Who will win the deposit war?\n",
      "SVB’s Collapse Opens Window of Opportunity for Business-Banking BaaS\n",
      "Machine learning models for BNPL: A step forward in predicting credit losses accurately\n",
      "Top 15 Liquidity Providers in 2023\n",
      "Unlocking the potential of low-value cross-border payments\n",
      "Radical rethink: How ReFi can help DeFi to build back better\n",
      "47\n"
     ]
    }
   ],
   "source": [
    "entries = []\n",
    "for entry in source['entries']:\n",
    "    entries.append(entry)\n",
    "    \n",
    "for entry in entries:\n",
    "    print(entry['title'])\n",
    "\n",
    "print(len(entries))"
   ]
  },
  {
   "cell_type": "markdown",
   "id": "65e0ae81",
   "metadata": {},
   "source": [
    "# Zero-Shot Classification Pipeline "
   ]
  },
  {
   "cell_type": "code",
   "execution_count": 32,
   "id": "5e57bd65",
   "metadata": {},
   "outputs": [],
   "source": [
    "from transformers import AutoTokenizer, AutoModelForSequenceClassification \n",
    "\n",
    "#model_name = \"valhalla/distilbart-mnli-12-1\"\n",
    "model_name = \"facebook/bart-large-mnli\"\n",
    "\n",
    "tokenizer = AutoTokenizer.from_pretrained(model_name)\n",
    "model = AutoModelForSequenceClassification.from_pretrained(model_name)\n",
    "\n",
    "classifier = pipeline(task=\"zero-shot-classification\", model=model, tokenizer=tokenizer, framework = \"pt\", batch_size=64)"
   ]
  },
  {
   "cell_type": "code",
   "execution_count": 27,
   "id": "068bb196",
   "metadata": {},
   "outputs": [],
   "source": [
    "# output = []\n",
    "\n",
    "# #modify date format (easier to manipulate later)\n",
    "# for i in range(len(source['entries'])):\n",
    "#     source['entries'][i]['published'] = str(parser.parse(source['entries'][i]['published']).date())\n",
    "\n",
    "# #default to today's news\n",
    "# for entry in source['entries']:\n",
    "#     if entry.published == str(date.today()):\n",
    "#         output.append(entry)"
   ]
  },
  {
   "cell_type": "code",
   "execution_count": 28,
   "id": "6558eb6e",
   "metadata": {},
   "outputs": [],
   "source": [
    "# for entry in output:\n",
    "#     print(entry['title'])\n",
    "\n",
    "# print(len(output))"
   ]
  },
  {
   "cell_type": "code",
   "execution_count": 33,
   "id": "54c7455d",
   "metadata": {},
   "outputs": [],
   "source": [
    "def zero_shot(text, query):\n",
    "    \n",
    "    for entry in text:\n",
    "        results = classifier(entry['title'], query, multi_label=True)\n",
    "        \n",
    "        topics = []\n",
    "        \n",
    "        for idx, score in enumerate(results['scores']):\n",
    "            score = score * 100\n",
    "            if score>=80:\n",
    "                topics.append((results['labels'][idx], np.round(score,2)))\n",
    "                entry['label'] = results['labels']\n",
    "            else:\n",
    "                entry['label'] = []\n",
    "    \n",
    "    filtered = []\n",
    "    for entry in text:\n",
    "        if entry['label'] !=[]:\n",
    "            filtered.append(entry)\n",
    "    \n",
    "    return filtered"
   ]
  },
  {
   "cell_type": "code",
   "execution_count": 34,
   "id": "026becee",
   "metadata": {},
   "outputs": [
    {
     "name": "stdout",
     "output_type": "stream",
     "text": [
      "HM Treasury opens consultation for taxing DeFi cryptoassets\n",
      "Visa staffs up for 'ambitious' crypto plans\n",
      "Examining the Real Value Proposition of Crypto and Digital Assets\n",
      "---\n",
      "Total number of news: 3\n",
      "Program runtime =  09.653801  sec\n"
     ]
    }
   ],
   "source": [
    "startTime = datetime.now()\n",
    "\n",
    "query = \"Crypto\"\n",
    "\n",
    "zero_shot = zero_shot(entries, query)\n",
    "\n",
    "for entry in zero_shot:\n",
    "    print(entry['title'])\n",
    "\n",
    "print(\"---\")\n",
    "\n",
    "print('Total number of news: ' + str(len(zero_shot)))\n",
    "\n",
    "endTime = datetime.now()\n",
    "\n",
    "print(\"Program runtime = \", str(endTime - startTime)[5:], \" sec\" )"
   ]
  },
  {
   "cell_type": "code",
   "execution_count": null,
   "id": "060dcbe7",
   "metadata": {},
   "outputs": [],
   "source": []
  },
  {
   "cell_type": "markdown",
   "id": "b6547074",
   "metadata": {},
   "source": [
    "# Fuzzy Wuzzy "
   ]
  },
  {
   "cell_type": "code",
   "execution_count": 39,
   "id": "325f49bc",
   "metadata": {},
   "outputs": [],
   "source": [
    "#fuzzy matches threshold\n",
    "matchThreshold = 90\n",
    "\n",
    "def count_match(x):\n",
    "    count = 0\n",
    "    label = list()\n",
    "    for t in x:\n",
    "        if t[1]>matchThreshold:\n",
    "            count+=1\n",
    "            label.append(t[0])\n",
    "    return label"
   ]
  },
  {
   "cell_type": "code",
   "execution_count": 40,
   "id": "873d86bf",
   "metadata": {},
   "outputs": [],
   "source": [
    "def fuzzywuzzy(entries, query):\n",
    "    \n",
    "    df = pd.DataFrame(query, columns = ['Keyword'])\n",
    "    \n",
    "    for news in entries:\n",
    "        news['label'] = count_match(process.extract(news['title'], df.Keyword, scorer = fuzz.token_set_ratio))\n",
    "        \n",
    "    filtered = []\n",
    "    \n",
    "    for entry in entries:\n",
    "        if entry['label'] != []:\n",
    "            filtered.append(entry)\n",
    "    \n",
    "    return filtered"
   ]
  },
  {
   "cell_type": "code",
   "execution_count": 42,
   "id": "ea0a0222",
   "metadata": {},
   "outputs": [
    {
     "name": "stdout",
     "output_type": "stream",
     "text": [
      "Visa staffs up for 'ambitious' crypto plans\n",
      "Examining the Real Value Proposition of Crypto and Digital Assets\n",
      "---\n",
      "Total number of news: 2\n",
      "Program runtime =  00.002499  sec\n"
     ]
    }
   ],
   "source": [
    "startTime = datetime.now()\n",
    "\n",
    "query = ['Crypto']\n",
    "fuzzywuzzy = fuzzywuzzy(entries, query)\n",
    "\n",
    "for entry in fuzzywuzzy:\n",
    "    print(entry['title'])\n",
    "    \n",
    "print('---')\n",
    "\n",
    "print('Total number of news: ' + str(len(fuzzywuzzy)))\n",
    "\n",
    "endTime = datetime.now()\n",
    "print(\"Program runtime = \", str(endTime - startTime)[5:], \" sec\")"
   ]
  },
  {
   "cell_type": "code",
   "execution_count": null,
   "id": "3fc45f2e",
   "metadata": {},
   "outputs": [],
   "source": []
  },
  {
   "cell_type": "code",
   "execution_count": null,
   "id": "9215ee3a",
   "metadata": {},
   "outputs": [],
   "source": []
  }
 ],
 "metadata": {
  "kernelspec": {
   "display_name": "py39",
   "language": "python",
   "name": "py39"
  },
  "language_info": {
   "codemirror_mode": {
    "name": "ipython",
    "version": 3
   },
   "file_extension": ".py",
   "mimetype": "text/x-python",
   "name": "python",
   "nbconvert_exporter": "python",
   "pygments_lexer": "ipython3",
   "version": "3.9.16"
  }
 },
 "nbformat": 4,
 "nbformat_minor": 5
}
