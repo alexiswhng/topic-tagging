{
 "cells": [
  {
   "cell_type": "code",
   "execution_count": 1,
   "id": "1fb428a1",
   "metadata": {},
   "outputs": [],
   "source": [
    "import re\n",
    "import sys\n",
    "import pandas as pd\n",
    "import numpy as np\n",
    "from sklearn.model_selection import train_test_split\n",
    "from sklearn.feature_extraction.text import TfidfVectorizer\n",
    "from sklearn.linear_model import PassiveAggressiveClassifier\n",
    "from sklearn.linear_model import LogisticRegression\n",
    "from sklearn.neighbors import KNeighborsClassifier\n",
    "from sklearn.ensemble import RandomForestClassifier\n",
    "from sklearn.tree import DecisionTreeClassifier\n",
    "from sklearn.metrics import accuracy_score, confusion_matrix\n",
    "\n",
    "#data preprocessing libraries\n",
    "import nltk\n",
    "from nltk.tokenize import RegexpTokenizer\n",
    "from nltk.stem import WordNetLemmatizer,PorterStemmer\n",
    "from nltk.corpus import stopwords"
   ]
  },
  {
   "cell_type": "code",
   "execution_count": 2,
   "id": "3c56cbfb",
   "metadata": {},
   "outputs": [
    {
     "data": {
      "text/html": [
       "<div>\n",
       "<style scoped>\n",
       "    .dataframe tbody tr th:only-of-type {\n",
       "        vertical-align: middle;\n",
       "    }\n",
       "\n",
       "    .dataframe tbody tr th {\n",
       "        vertical-align: top;\n",
       "    }\n",
       "\n",
       "    .dataframe thead th {\n",
       "        text-align: right;\n",
       "    }\n",
       "</style>\n",
       "<table border=\"1\" class=\"dataframe\">\n",
       "  <thead>\n",
       "    <tr style=\"text-align: right;\">\n",
       "      <th></th>\n",
       "      <th>Title</th>\n",
       "      <th>Relevancy</th>\n",
       "      <th>Source</th>\n",
       "      <th>Description</th>\n",
       "    </tr>\n",
       "  </thead>\n",
       "  <tbody>\n",
       "    <tr>\n",
       "      <th>0</th>\n",
       "      <td>Apple Gangnam now open in South Korea</td>\n",
       "      <td>irrelevant</td>\n",
       "      <td>Apple</td>\n",
       "      <td>Apple Gangnam now open in South KoreaThe new s...</td>\n",
       "    </tr>\n",
       "    <tr>\n",
       "      <th>1</th>\n",
       "      <td>At Exceptional Minds, autistic artists turn cr...</td>\n",
       "      <td>irrelevant</td>\n",
       "      <td>Apple</td>\n",
       "      <td>At Exceptional Minds, autistic artists turn cr...</td>\n",
       "    </tr>\n",
       "    <tr>\n",
       "      <th>2</th>\n",
       "      <td>Apple Gangnam will welcome first customers thi...</td>\n",
       "      <td>relevant</td>\n",
       "      <td>Apple</td>\n",
       "      <td>Apple Gangnam will welcome first customers thi...</td>\n",
       "    </tr>\n",
       "    <tr>\n",
       "      <th>3</th>\n",
       "      <td>Apple introduces Apple Pay Later</td>\n",
       "      <td>irrelevant</td>\n",
       "      <td>Apple</td>\n",
       "      <td>Apple introduces Apple Pay LaterApple today in...</td>\n",
       "    </tr>\n",
       "    <tr>\n",
       "      <th>4</th>\n",
       "      <td>Apple Music Classical is here</td>\n",
       "      <td>irrelevant</td>\n",
       "      <td>Apple</td>\n",
       "      <td>Apple Music Classical is hereApple today launc...</td>\n",
       "    </tr>\n",
       "  </tbody>\n",
       "</table>\n",
       "</div>"
      ],
      "text/plain": [
       "                                               Title   Relevancy Source   \n",
       "0              Apple Gangnam now open in South Korea  irrelevant  Apple  \\\n",
       "1  At Exceptional Minds, autistic artists turn cr...  irrelevant  Apple   \n",
       "2  Apple Gangnam will welcome first customers thi...    relevant  Apple   \n",
       "3                   Apple introduces Apple Pay Later  irrelevant  Apple   \n",
       "4                      Apple Music Classical is here  irrelevant  Apple   \n",
       "\n",
       "                                         Description  \n",
       "0  Apple Gangnam now open in South KoreaThe new s...  \n",
       "1  At Exceptional Minds, autistic artists turn cr...  \n",
       "2  Apple Gangnam will welcome first customers thi...  \n",
       "3  Apple introduces Apple Pay LaterApple today in...  \n",
       "4  Apple Music Classical is hereApple today launc...  "
      ]
     },
     "execution_count": 2,
     "metadata": {},
     "output_type": "execute_result"
    }
   ],
   "source": [
    "dataset = pd.read_excel('news_relevancy_training.xlsx') #used as training data\n",
    "dataset.head()"
   ]
  },
  {
   "cell_type": "code",
   "execution_count": 3,
   "id": "547d237b",
   "metadata": {},
   "outputs": [
    {
     "data": {
      "text/plain": [
       "0    irrelevant\n",
       "1    irrelevant\n",
       "2      relevant\n",
       "3    irrelevant\n",
       "4    irrelevant\n",
       "Name: Relevancy, dtype: object"
      ]
     },
     "execution_count": 3,
     "metadata": {},
     "output_type": "execute_result"
    }
   ],
   "source": [
    "labels = dataset.Relevancy\n",
    "labels.head()"
   ]
  },
  {
   "cell_type": "code",
   "execution_count": 4,
   "id": "129053fd",
   "metadata": {},
   "outputs": [
    {
     "data": {
      "text/plain": [
       "2444"
      ]
     },
     "execution_count": 4,
     "metadata": {},
     "output_type": "execute_result"
    }
   ],
   "source": [
    "len(dataset)"
   ]
  },
  {
   "cell_type": "code",
   "execution_count": 5,
   "id": "8c04b16e",
   "metadata": {},
   "outputs": [],
   "source": [
    "output_df = dataset.fillna(\"\")\n",
    "\n",
    "#remove non-english developments and drop duplicates\n",
    "output_df['Title'] = output_df['Title'].astype(str)\n",
    "# output_df = output_df[output_df.Title.map(lambda x:x.isascii())]\n",
    "# output_df = output_df[output_df.Description.map(lambda x:x.isascii())]\n",
    "\n",
    "output_df = output_df.drop_duplicates(subset=['Title'], keep = \"first\")\n",
    "\n",
    "#combine title and description to use as training data\n",
    "output_df['Description'] = output_df['Title'].astype(str) + ' ' + output_df[\"Description\"].astype(str)\n",
    "\n",
    "lemmatizer = WordNetLemmatizer()\n",
    "stemmer = PorterStemmer()\n",
    "stopwords_eng = stopwords.words('english')\n",
    "\n",
    "stopwords_eng += ['p', 'style', 'float', 'right', 'margin', '10px', '15px', 'width', 'height','240px',\n",
    "                  'img', 'src', 'https', 'images', 'com', 'href', 'source', 'jpg', 'cointelegraph', 'www', \"768x576\",\n",
    "                 \"rss\", \"feed\", \"amp\", \"dmc\" \"iar\", \"thn\", \"udi\", \"hash\", \"div\"]\n",
    "\n",
    "def preprocess(sentence):\n",
    "    sentence=str(sentence)\n",
    "    sentence = sentence.lower()\n",
    "    sentence=sentence.replace('{html}',\"\")\n",
    "    cleanr = re.compile('<.*?>')\n",
    "    cleantext = re.sub(cleanr, '', sentence)\n",
    "    rem_url=re.sub(r'http\\S+', '',cleantext)\n",
    "#     rem_num = re.sub('[0-9]+', '', rem_url)\n",
    "    tokenizer = RegexpTokenizer(r'\\w+')\n",
    "    tokens = tokenizer.tokenize(rem_url) \n",
    "    filtered_words = [w for w in tokens if len(w) >= 2 and len(w) < 25 if not w in stopwords_eng and not w.isdigit()]\n",
    "    stem_words=[stemmer.stem(w) for w in filtered_words]\n",
    "    lemma_words=[lemmatizer.lemmatize(w) for w in stem_words]\n",
    "    return \" \".join(filtered_words)\n",
    "\n",
    "output_df['cleanText']=output_df['Description'].map(lambda s:preprocess(s))\n",
    "\n",
    "dataset=output_df\n"
   ]
  },
  {
   "cell_type": "code",
   "execution_count": 6,
   "id": "0e97aa1f",
   "metadata": {},
   "outputs": [],
   "source": [
    "x_train,x_test,y_train,y_test=train_test_split(dataset['cleanText'], labels, test_size=0.2, random_state=7)"
   ]
  },
  {
   "cell_type": "code",
   "execution_count": 7,
   "id": "62f0a003",
   "metadata": {},
   "outputs": [],
   "source": [
    "#Initialize a TfidfVectorizer\n",
    "tfidf_vectorizer=TfidfVectorizer(stop_words='english', max_df=0.7)\n",
    "\n",
    "#Fit and transform train set, transform test set\n",
    "tfidf_train=tfidf_vectorizer.fit_transform(x_train) \n",
    "tfidf_test=tfidf_vectorizer.transform(x_test)"
   ]
  },
  {
   "cell_type": "code",
   "execution_count": 8,
   "id": "47f905a3",
   "metadata": {},
   "outputs": [
    {
     "name": "stdout",
     "output_type": "stream",
     "text": [
      "Accuracy: 86.3%\n"
     ]
    }
   ],
   "source": [
    "#using scikit-learn classifiers\n",
    "\n",
    "classifier = PassiveAggressiveClassifier(max_iter=1000, random_state=0,tol=1e-3) #works best\n",
    "# classifier = LogisticRegression()\n",
    "# classifier = KNeighborsClassifier(n_neighbors=4)\n",
    "# classifier = RandomForestClassifier(n_estimators=1000,random_state=5)\n",
    "# classifier = DecisionTreeClassifier()\n",
    "\n",
    "classifier.fit(tfidf_train,y_train)\n",
    "\n",
    "#DataFlair - Predict on the test set and calculate accuracy\n",
    "y_pred=classifier.predict(tfidf_test)\n",
    "score=accuracy_score(y_test,y_pred)\n",
    "print(f'Accuracy: {round(score*100,2)}%')\n",
    "\n",
    "#PAC: 88.18%\n",
    "#LR: 86.52%\n",
    "#KNN: 88.42%\n",
    "#RF: 88.14%"
   ]
  },
  {
   "cell_type": "code",
   "execution_count": 9,
   "id": "ce2d5a36",
   "metadata": {},
   "outputs": [
    {
     "data": {
      "text/plain": [
       "array([[338,  30],\n",
       "       [ 37,  84]], dtype=int64)"
      ]
     },
     "execution_count": 9,
     "metadata": {},
     "output_type": "execute_result"
    }
   ],
   "source": [
    "#Build confusion matrix\n",
    "confusion_matrix(y_test,y_pred, labels=['irrelevant','relevant']) \n",
    "\n",
    "#PAC: 340 true positives, 16 true negatives, 35 false positives, 32 false negatives\n",
    "#LR: 356 true positives, 0 true negatives, 57 false positives, 10 false negatives"
   ]
  },
  {
   "cell_type": "code",
   "execution_count": 10,
   "id": "1555f83f",
   "metadata": {},
   "outputs": [],
   "source": [
    "#test cases\n",
    "text = [\"Digital Currency created today by bank of canada\", \n",
    "        \"Bank of Montreal in AI modelling\", \n",
    "        \"Governement bans TikTok\",\n",
    "        \"Canada explores more in the Metaverse\", \n",
    "        \"Epstein-related reports\"]\n",
    "\n",
    "tfidf_text=tfidf_vectorizer.transform(text)"
   ]
  },
  {
   "cell_type": "code",
   "execution_count": 11,
   "id": "bbc1ecb7",
   "metadata": {},
   "outputs": [
    {
     "data": {
      "text/plain": [
       "array(['relevant', 'relevant', 'irrelevant', 'relevant', 'irrelevant'],\n",
       "      dtype='<U10')"
      ]
     },
     "execution_count": 11,
     "metadata": {},
     "output_type": "execute_result"
    }
   ],
   "source": [
    "y_pred=classifier.predict(tfidf_text)\n",
    "y_pred"
   ]
  },
  {
   "cell_type": "markdown",
   "id": "e2fdc8ef",
   "metadata": {},
   "source": [
    "## save model "
   ]
  },
  {
   "cell_type": "code",
   "execution_count": 12,
   "id": "25638154",
   "metadata": {},
   "outputs": [],
   "source": [
    "# import pickle\n",
    "# pickle.dump(classifier, open('model_relevant.pkl', 'wb'))"
   ]
  },
  {
   "cell_type": "code",
   "execution_count": 13,
   "id": "ead27ce8",
   "metadata": {},
   "outputs": [],
   "source": [
    "#load model\n",
    "\n",
    "# pickled_model = pickle.load(open('model_relevant.pkl', 'rb'))"
   ]
  },
  {
   "cell_type": "code",
   "execution_count": 12,
   "id": "158f975d",
   "metadata": {},
   "outputs": [],
   "source": [
    "tfidf_text=tfidf_vectorizer.transform([\"BMO has published its 2022 Sustainability reporting suite, including the 2022 BMO Climate Report. The 2022 Sustainability reporting suite provides environmental, social and governance (ESG) disclosure, with a focus on progress BMO has made on issues identified by stakeholders as most affecting the bank's sustainability.\"])\n",
    "\n",
    "pred=classifier.predict(tfidf_text)\n",
    "\n",
    "def relevancy(text):\n",
    "    text = str(text)\n",
    "    \n",
    "    tfidf_text = tfidf_vectorizer.transform([text])\n",
    "    \n",
    "    pred = classifier.predict(tfidf_text)\n",
    "    \n",
    "    return pred.item()\n",
    "\n",
    "test = relevancy(\"BMO has published its 2022 Sustainability reporting suite, including the 2022 BMO Climate Report. The 2022 Sustainability reporting suite provides environmental, social and governance (ESG) disclosure, with a focus on progress BMO has made on issues identified by stakeholders as most affecting the bank's sustainability.\")"
   ]
  },
  {
   "cell_type": "code",
   "execution_count": 13,
   "id": "03e0014e",
   "metadata": {},
   "outputs": [
    {
     "data": {
      "text/plain": [
       "'relevant'"
      ]
     },
     "execution_count": 13,
     "metadata": {},
     "output_type": "execute_result"
    }
   ],
   "source": [
    "test"
   ]
  },
  {
   "cell_type": "markdown",
   "id": "00dea752",
   "metadata": {},
   "source": [
    "## Predict on new text (All of today's scraped news)"
   ]
  },
  {
   "cell_type": "code",
   "execution_count": 18,
   "id": "e4045bbc",
   "metadata": {},
   "outputs": [
    {
     "data": {
      "text/html": [
       "<div>\n",
       "<style scoped>\n",
       "    .dataframe tbody tr th:only-of-type {\n",
       "        vertical-align: middle;\n",
       "    }\n",
       "\n",
       "    .dataframe tbody tr th {\n",
       "        vertical-align: top;\n",
       "    }\n",
       "\n",
       "    .dataframe thead th {\n",
       "        text-align: right;\n",
       "    }\n",
       "</style>\n",
       "<table border=\"1\" class=\"dataframe\">\n",
       "  <thead>\n",
       "    <tr style=\"text-align: right;\">\n",
       "      <th></th>\n",
       "      <th>Date</th>\n",
       "      <th>Title</th>\n",
       "      <th>Source</th>\n",
       "      <th>Link</th>\n",
       "      <th>Description</th>\n",
       "      <th>cleanText</th>\n",
       "    </tr>\n",
       "  </thead>\n",
       "  <tbody>\n",
       "    <tr>\n",
       "      <th>0</th>\n",
       "      <td>2023-04-11</td>\n",
       "      <td>Ukrainian prime minister expected to appeal fo...</td>\n",
       "      <td>Google</td>\n",
       "      <td>https://news.google.com/rss/articles/CBMieWh0d...</td>\n",
       "      <td>Ukrainian prime minister expected to appeal fo...</td>\n",
       "      <td>ukrainian prime minister expected appeal aid v...</td>\n",
       "    </tr>\n",
       "    <tr>\n",
       "      <th>1</th>\n",
       "      <td>2023-04-11</td>\n",
       "      <td>AI bots mingled at a bar and had a party when ...</td>\n",
       "      <td>Cointelegraph</td>\n",
       "      <td>https://cointelegraph.com/news/ai-bots-mingled...</td>\n",
       "      <td>AI bots mingled at a bar and had a party when ...</td>\n",
       "      <td>ai bots mingled bar party researchers gave tow...</td>\n",
       "    </tr>\n",
       "    <tr>\n",
       "      <th>2</th>\n",
       "      <td>2023-04-11</td>\n",
       "      <td>Presidential hopefuls RFK Jr. and Ron DeSantis...</td>\n",
       "      <td>Cointelegraph</td>\n",
       "      <td>https://cointelegraph.com/news/presidential-ho...</td>\n",
       "      <td>Presidential hopefuls RFK Jr. and Ron DeSantis...</td>\n",
       "      <td>presidential hopefuls rfk jr ron desantis rail...</td>\n",
       "    </tr>\n",
       "    <tr>\n",
       "      <th>3</th>\n",
       "      <td>2023-04-11</td>\n",
       "      <td>Bitcoin Ordinals community debates fix after i...</td>\n",
       "      <td>Cointelegraph</td>\n",
       "      <td>https://cointelegraph.com/news/bitcoin-ordinal...</td>\n",
       "      <td>Bitcoin Ordinals community debates fix after i...</td>\n",
       "      <td>bitcoin ordinals community debates fix inscrip...</td>\n",
       "    </tr>\n",
       "    <tr>\n",
       "      <th>4</th>\n",
       "      <td>2023-04-11</td>\n",
       "      <td>Bitcoin hits $30K to mark highest price since ...</td>\n",
       "      <td>Cointelegraph</td>\n",
       "      <td>https://cointelegraph.com/news/bitcoin-hits-30...</td>\n",
       "      <td>Bitcoin hits $30K to mark highest price since ...</td>\n",
       "      <td>bitcoin hits 30k mark highest price since june...</td>\n",
       "    </tr>\n",
       "    <tr>\n",
       "      <th>...</th>\n",
       "      <td>...</td>\n",
       "      <td>...</td>\n",
       "      <td>...</td>\n",
       "      <td>...</td>\n",
       "      <td>...</td>\n",
       "      <td>...</td>\n",
       "    </tr>\n",
       "    <tr>\n",
       "      <th>961</th>\n",
       "      <td>2023-04-10</td>\n",
       "      <td>World Startup Convention: The India start-up g...</td>\n",
       "      <td>BBC News</td>\n",
       "      <td>https://www.bbc.co.uk/news/world-asia-india-65...</td>\n",
       "      <td>World Startup Convention: The India start-up g...</td>\n",
       "      <td>world startup convention india start gala expl...</td>\n",
       "    </tr>\n",
       "    <tr>\n",
       "      <th>962</th>\n",
       "      <td>2023-04-10</td>\n",
       "      <td>Elon Musk: Tesla to build new battery factory ...</td>\n",
       "      <td>BBC News</td>\n",
       "      <td>https://www.bbc.co.uk/news/business-65228927?a...</td>\n",
       "      <td>Elon Musk: Tesla to build new battery factory ...</td>\n",
       "      <td>elon musk tesla build new battery factory shan...</td>\n",
       "    </tr>\n",
       "    <tr>\n",
       "      <th>963</th>\n",
       "      <td>2023-04-10</td>\n",
       "      <td>Twitter: BBC objects to 'government funded med...</td>\n",
       "      <td>BBC News</td>\n",
       "      <td>https://www.bbc.co.uk/news/entertainment-arts-...</td>\n",
       "      <td>Twitter: BBC objects to 'government funded med...</td>\n",
       "      <td>twitter bbc objects government funded media la...</td>\n",
       "    </tr>\n",
       "    <tr>\n",
       "      <th>964</th>\n",
       "      <td>2023-04-10</td>\n",
       "      <td>Netflix airs first Welsh language drama, Dal y...</td>\n",
       "      <td>BBC News</td>\n",
       "      <td>https://www.bbc.co.uk/news/uk-wales-65223442?a...</td>\n",
       "      <td>Netflix airs first Welsh language drama, Dal y...</td>\n",
       "      <td>netflix airs first welsh language drama dal me...</td>\n",
       "    </tr>\n",
       "    <tr>\n",
       "      <th>965</th>\n",
       "      <td>2023-04-10</td>\n",
       "      <td>You can get better sleep with wearables. Just ...</td>\n",
       "      <td>The Washington Post</td>\n",
       "      <td>https://www.washingtonpost.com/technology/2023...</td>\n",
       "      <td>You can get better sleep with wearables. Just ...</td>\n",
       "      <td>get better sleep wearables focus data popular ...</td>\n",
       "    </tr>\n",
       "  </tbody>\n",
       "</table>\n",
       "<p>966 rows × 6 columns</p>\n",
       "</div>"
      ],
      "text/plain": [
       "           Date                                              Title   \n",
       "0    2023-04-11  Ukrainian prime minister expected to appeal fo...  \\\n",
       "1    2023-04-11  AI bots mingled at a bar and had a party when ...   \n",
       "2    2023-04-11  Presidential hopefuls RFK Jr. and Ron DeSantis...   \n",
       "3    2023-04-11  Bitcoin Ordinals community debates fix after i...   \n",
       "4    2023-04-11  Bitcoin hits $30K to mark highest price since ...   \n",
       "..          ...                                                ...   \n",
       "961  2023-04-10  World Startup Convention: The India start-up g...   \n",
       "962  2023-04-10  Elon Musk: Tesla to build new battery factory ...   \n",
       "963  2023-04-10  Twitter: BBC objects to 'government funded med...   \n",
       "964  2023-04-10  Netflix airs first Welsh language drama, Dal y...   \n",
       "965  2023-04-10  You can get better sleep with wearables. Just ...   \n",
       "\n",
       "                   Source                                               Link   \n",
       "0                  Google  https://news.google.com/rss/articles/CBMieWh0d...  \\\n",
       "1          Cointelegraph   https://cointelegraph.com/news/ai-bots-mingled...   \n",
       "2          Cointelegraph   https://cointelegraph.com/news/presidential-ho...   \n",
       "3          Cointelegraph   https://cointelegraph.com/news/bitcoin-ordinal...   \n",
       "4          Cointelegraph   https://cointelegraph.com/news/bitcoin-hits-30...   \n",
       "..                    ...                                                ...   \n",
       "961             BBC News   https://www.bbc.co.uk/news/world-asia-india-65...   \n",
       "962             BBC News   https://www.bbc.co.uk/news/business-65228927?a...   \n",
       "963             BBC News   https://www.bbc.co.uk/news/entertainment-arts-...   \n",
       "964             BBC News   https://www.bbc.co.uk/news/uk-wales-65223442?a...   \n",
       "965  The Washington Post   https://www.washingtonpost.com/technology/2023...   \n",
       "\n",
       "                                           Description   \n",
       "0    Ukrainian prime minister expected to appeal fo...  \\\n",
       "1    AI bots mingled at a bar and had a party when ...   \n",
       "2    Presidential hopefuls RFK Jr. and Ron DeSantis...   \n",
       "3    Bitcoin Ordinals community debates fix after i...   \n",
       "4    Bitcoin hits $30K to mark highest price since ...   \n",
       "..                                                 ...   \n",
       "961  World Startup Convention: The India start-up g...   \n",
       "962  Elon Musk: Tesla to build new battery factory ...   \n",
       "963  Twitter: BBC objects to 'government funded med...   \n",
       "964  Netflix airs first Welsh language drama, Dal y...   \n",
       "965  You can get better sleep with wearables. Just ...   \n",
       "\n",
       "                                             cleanText  \n",
       "0    ukrainian prime minister expected appeal aid v...  \n",
       "1    ai bots mingled bar party researchers gave tow...  \n",
       "2    presidential hopefuls rfk jr ron desantis rail...  \n",
       "3    bitcoin ordinals community debates fix inscrip...  \n",
       "4    bitcoin hits 30k mark highest price since june...  \n",
       "..                                                 ...  \n",
       "961  world startup convention india start gala expl...  \n",
       "962  elon musk tesla build new battery factory shan...  \n",
       "963  twitter bbc objects government funded media la...  \n",
       "964  netflix airs first welsh language drama dal me...  \n",
       "965  get better sleep wearables focus data popular ...  \n",
       "\n",
       "[966 rows x 6 columns]"
      ]
     },
     "execution_count": 18,
     "metadata": {},
     "output_type": "execute_result"
    }
   ],
   "source": [
    "#predict on todays news\n",
    "\n",
    "df = pd.read_excel('todays_news.xlsx')\n",
    "df"
   ]
  },
  {
   "cell_type": "code",
   "execution_count": 19,
   "id": "7d30a8fd",
   "metadata": {},
   "outputs": [],
   "source": [
    "df['Relevancy']=df[\"cleanText\"].apply(lambda x: relevancy(str(x)))"
   ]
  },
  {
   "cell_type": "code",
   "execution_count": 21,
   "id": "3473318e",
   "metadata": {},
   "outputs": [],
   "source": [
    "# df = df[df['Relevancy'] == 'relevant']\n",
    "df.to_excel(\"output.xlsx\", index=False)"
   ]
  },
  {
   "cell_type": "code",
   "execution_count": null,
   "id": "8e7363e2",
   "metadata": {},
   "outputs": [],
   "source": []
  },
  {
   "cell_type": "code",
   "execution_count": null,
   "id": "ea1bf6ff",
   "metadata": {},
   "outputs": [],
   "source": []
  },
  {
   "cell_type": "code",
   "execution_count": null,
   "id": "e455d6fb",
   "metadata": {},
   "outputs": [],
   "source": []
  },
  {
   "cell_type": "code",
   "execution_count": null,
   "id": "b77e34c4",
   "metadata": {},
   "outputs": [],
   "source": []
  },
  {
   "cell_type": "code",
   "execution_count": null,
   "id": "268aaf1b",
   "metadata": {},
   "outputs": [],
   "source": []
  },
  {
   "cell_type": "markdown",
   "id": "26bea928",
   "metadata": {},
   "source": [
    "## Experiment 2: Using Neural Network"
   ]
  },
  {
   "cell_type": "code",
   "execution_count": 81,
   "id": "058f270d",
   "metadata": {},
   "outputs": [],
   "source": [
    "import pandas as pd\n",
    "import re\n",
    "import string\n",
    "import numpy as np\n",
    "from sklearn.feature_extraction.text import ENGLISH_STOP_WORDS as sklearn_stop_words\n",
    "import nltk\n",
    "from nltk.tokenize import word_tokenize\n",
    "from nltk.corpus import stopwords\n",
    "meaningful_words=[]\n",
    "stop=set(stopwords.words('english'))"
   ]
  },
  {
   "cell_type": "code",
   "execution_count": 82,
   "id": "c8c2f103",
   "metadata": {},
   "outputs": [],
   "source": [
    "data = pd.read_excel('news_relevancy.xlsx')\n",
    "\n",
    "data['text'] = data['Description']\n",
    "data['relevancy'] = data['Relevancy']"
   ]
  },
  {
   "cell_type": "code",
   "execution_count": 83,
   "id": "da829c77",
   "metadata": {},
   "outputs": [
    {
     "data": {
      "text/plain": [
       "(1955,)"
      ]
     },
     "execution_count": 83,
     "metadata": {},
     "output_type": "execute_result"
    }
   ],
   "source": [
    "#splitting data\n",
    "from sklearn.model_selection import train_test_split\n",
    "x_train, x_test, y_train, y_test = train_test_split(data.text,data.relevancy,test_size = 0.2) \n",
    "x_train.shape"
   ]
  },
  {
   "cell_type": "code",
   "execution_count": 84,
   "id": "bee1da17",
   "metadata": {},
   "outputs": [
    {
     "data": {
      "text/plain": [
       "'apple gangnam now open in south koreathe new space invites customers to discover apple s incredible lineup of products and services  and receive best in class support'"
      ]
     },
     "execution_count": 84,
     "metadata": {},
     "output_type": "execute_result"
    }
   ],
   "source": [
    "#preprocessing\n",
    "def remove_hyperlink(word):\n",
    "    return  re.sub(r\"http\\S+\", \"\", word)\n",
    "\n",
    "def to_lower(word):\n",
    "    result = word.lower()\n",
    "    return result\n",
    "\n",
    "def remove_number(word):\n",
    "    result = re.sub(r'\\d+', '', word)\n",
    "    return result\n",
    "\n",
    "def remove_punctuation(word):\n",
    "    result = word.translate(str.maketrans(dict.fromkeys(string.punctuation)))\n",
    "    return result\n",
    "\n",
    "def remove_whitespace(word):\n",
    "    result = word.strip()\n",
    "    return result\n",
    "\n",
    "def replace_newline(word):\n",
    "    return word.replace('\\n','')\n",
    "\n",
    "def clean_up_pipeline(sentence):\n",
    "    cleaning_utils = [remove_hyperlink,\n",
    "                      replace_newline,\n",
    "                      to_lower,\n",
    "                      remove_number,\n",
    "                      remove_punctuation,remove_whitespace]\n",
    "    for o in cleaning_utils:\n",
    "        sentence = o(sentence)\n",
    "    return sentence\n",
    "\n",
    "data['text'] = [clean_up_pipeline(o) for o in data['text']]\n",
    "\n",
    "\n",
    "data['text'][0]"
   ]
  },
  {
   "cell_type": "code",
   "execution_count": 85,
   "id": "4bb9a3c3",
   "metadata": {},
   "outputs": [
    {
     "data": {
      "text/plain": [
       "(2444, 14828)"
      ]
     },
     "execution_count": 85,
     "metadata": {},
     "output_type": "execute_result"
    }
   ],
   "source": [
    "tf = TfidfVectorizer()\n",
    "t = tf.fit_transform(data['text'])\n",
    "t.shape"
   ]
  },
  {
   "cell_type": "code",
   "execution_count": 86,
   "id": "5b8a5db4",
   "metadata": {},
   "outputs": [],
   "source": [
    "x_train,x_test,y_train,y_test = train_test_split(t,data['Relevancy'],test_size = 0.3)"
   ]
  },
  {
   "cell_type": "code",
   "execution_count": 87,
   "id": "ebf5cf52",
   "metadata": {},
   "outputs": [
    {
     "data": {
      "text/html": [
       "<style>#sk-container-id-1 {color: black;background-color: white;}#sk-container-id-1 pre{padding: 0;}#sk-container-id-1 div.sk-toggleable {background-color: white;}#sk-container-id-1 label.sk-toggleable__label {cursor: pointer;display: block;width: 100%;margin-bottom: 0;padding: 0.3em;box-sizing: border-box;text-align: center;}#sk-container-id-1 label.sk-toggleable__label-arrow:before {content: \"▸\";float: left;margin-right: 0.25em;color: #696969;}#sk-container-id-1 label.sk-toggleable__label-arrow:hover:before {color: black;}#sk-container-id-1 div.sk-estimator:hover label.sk-toggleable__label-arrow:before {color: black;}#sk-container-id-1 div.sk-toggleable__content {max-height: 0;max-width: 0;overflow: hidden;text-align: left;background-color: #f0f8ff;}#sk-container-id-1 div.sk-toggleable__content pre {margin: 0.2em;color: black;border-radius: 0.25em;background-color: #f0f8ff;}#sk-container-id-1 input.sk-toggleable__control:checked~div.sk-toggleable__content {max-height: 200px;max-width: 100%;overflow: auto;}#sk-container-id-1 input.sk-toggleable__control:checked~label.sk-toggleable__label-arrow:before {content: \"▾\";}#sk-container-id-1 div.sk-estimator input.sk-toggleable__control:checked~label.sk-toggleable__label {background-color: #d4ebff;}#sk-container-id-1 div.sk-label input.sk-toggleable__control:checked~label.sk-toggleable__label {background-color: #d4ebff;}#sk-container-id-1 input.sk-hidden--visually {border: 0;clip: rect(1px 1px 1px 1px);clip: rect(1px, 1px, 1px, 1px);height: 1px;margin: -1px;overflow: hidden;padding: 0;position: absolute;width: 1px;}#sk-container-id-1 div.sk-estimator {font-family: monospace;background-color: #f0f8ff;border: 1px dotted black;border-radius: 0.25em;box-sizing: border-box;margin-bottom: 0.5em;}#sk-container-id-1 div.sk-estimator:hover {background-color: #d4ebff;}#sk-container-id-1 div.sk-parallel-item::after {content: \"\";width: 100%;border-bottom: 1px solid gray;flex-grow: 1;}#sk-container-id-1 div.sk-label:hover label.sk-toggleable__label {background-color: #d4ebff;}#sk-container-id-1 div.sk-serial::before {content: \"\";position: absolute;border-left: 1px solid gray;box-sizing: border-box;top: 0;bottom: 0;left: 50%;z-index: 0;}#sk-container-id-1 div.sk-serial {display: flex;flex-direction: column;align-items: center;background-color: white;padding-right: 0.2em;padding-left: 0.2em;position: relative;}#sk-container-id-1 div.sk-item {position: relative;z-index: 1;}#sk-container-id-1 div.sk-parallel {display: flex;align-items: stretch;justify-content: center;background-color: white;position: relative;}#sk-container-id-1 div.sk-item::before, #sk-container-id-1 div.sk-parallel-item::before {content: \"\";position: absolute;border-left: 1px solid gray;box-sizing: border-box;top: 0;bottom: 0;left: 50%;z-index: -1;}#sk-container-id-1 div.sk-parallel-item {display: flex;flex-direction: column;z-index: 1;position: relative;background-color: white;}#sk-container-id-1 div.sk-parallel-item:first-child::after {align-self: flex-end;width: 50%;}#sk-container-id-1 div.sk-parallel-item:last-child::after {align-self: flex-start;width: 50%;}#sk-container-id-1 div.sk-parallel-item:only-child::after {width: 0;}#sk-container-id-1 div.sk-dashed-wrapped {border: 1px dashed gray;margin: 0 0.4em 0.5em 0.4em;box-sizing: border-box;padding-bottom: 0.4em;background-color: white;}#sk-container-id-1 div.sk-label label {font-family: monospace;font-weight: bold;display: inline-block;line-height: 1.2em;}#sk-container-id-1 div.sk-label-container {text-align: center;}#sk-container-id-1 div.sk-container {/* jupyter's `normalize.less` sets `[hidden] { display: none; }` but bootstrap.min.css set `[hidden] { display: none !important; }` so we also need the `!important` here to be able to override the default hidden behavior on the sphinx rendered scikit-learn.org. See: https://github.com/scikit-learn/scikit-learn/issues/21755 */display: inline-block !important;position: relative;}#sk-container-id-1 div.sk-text-repr-fallback {display: none;}</style><div id=\"sk-container-id-1\" class=\"sk-top-container\"><div class=\"sk-text-repr-fallback\"><pre>SVC(C=600, gamma=0.001)</pre><b>In a Jupyter environment, please rerun this cell to show the HTML representation or trust the notebook. <br />On GitHub, the HTML representation is unable to render, please try loading this page with nbviewer.org.</b></div><div class=\"sk-container\" hidden><div class=\"sk-item\"><div class=\"sk-estimator sk-toggleable\"><input class=\"sk-toggleable__control sk-hidden--visually\" id=\"sk-estimator-id-1\" type=\"checkbox\" checked><label for=\"sk-estimator-id-1\" class=\"sk-toggleable__label sk-toggleable__label-arrow\">SVC</label><div class=\"sk-toggleable__content\"><pre>SVC(C=600, gamma=0.001)</pre></div></div></div></div></div>"
      ],
      "text/plain": [
       "SVC(C=600, gamma=0.001)"
      ]
     },
     "execution_count": 87,
     "metadata": {},
     "output_type": "execute_result"
    }
   ],
   "source": [
    "from sklearn.naive_bayes import MultinomialNB\n",
    "from sklearn.svm import SVC\n",
    "\n",
    "classifier = MultinomialNB()\n",
    "clf = SVC(kernel = \"rbf\", C = 600, gamma = 0.001 )\n",
    "\n",
    "classifier.fit(x_train,y_train)\n",
    "clf.fit(x_train,y_train)"
   ]
  },
  {
   "cell_type": "code",
   "execution_count": 88,
   "id": "ac8a3409",
   "metadata": {},
   "outputs": [],
   "source": [
    "e = classifier.predict(x_test)\n",
    "fd = clf.predict(x_test)"
   ]
  },
  {
   "cell_type": "code",
   "execution_count": 89,
   "id": "8ba3606b",
   "metadata": {},
   "outputs": [],
   "source": [
    "s = classifier.score(x_test,y_test)\n",
    "s1 = clf.score(x_test,y_test)"
   ]
  },
  {
   "cell_type": "code",
   "execution_count": 90,
   "id": "d90b79cf",
   "metadata": {},
   "outputs": [
    {
     "name": "stdout",
     "output_type": "stream",
     "text": [
      "0.7697547683923706\n",
      "0.8596730245231607\n"
     ]
    }
   ],
   "source": [
    "print(s)\n",
    "print(s1)"
   ]
  },
  {
   "cell_type": "code",
   "execution_count": 91,
   "id": "7caf840c",
   "metadata": {},
   "outputs": [
    {
     "data": {
      "text/plain": [
       "0.8433242506811989"
      ]
     },
     "execution_count": 91,
     "metadata": {},
     "output_type": "execute_result"
    }
   ],
   "source": [
    "from sklearn.neural_network import MLPClassifier\n",
    "\n",
    "clf = MLPClassifier(hidden_layer_sizes = (6,2), activation = 'tanh',learning_rate = 'adaptive', max_iter = 400)\n",
    "clf.fit(x_train,y_train)\n",
    "clf.predict(x_test)\n",
    "\n",
    "s = clf.score(x_test,y_test)\n",
    "s"
   ]
  },
  {
   "cell_type": "code",
   "execution_count": null,
   "id": "817e6ba0",
   "metadata": {},
   "outputs": [],
   "source": []
  },
  {
   "cell_type": "markdown",
   "id": "9c9b8730",
   "metadata": {},
   "source": [
    "## Keras"
   ]
  },
  {
   "cell_type": "code",
   "execution_count": 76,
   "id": "d0e89747",
   "metadata": {},
   "outputs": [],
   "source": [
    "from sklearn import preprocessing\n",
    "import numpy as np\n",
    "import pandas as pd\n",
    "import os\n",
    "# Load required libraries\n",
    "import matplotlib.pyplot as plt\n",
    "import time\n",
    "import pickle\n",
    "import seaborn as sns\n",
    "import sys\n",
    "sys.setrecursionlimit(1500)\n",
    "%matplotlib inline"
   ]
  },
  {
   "cell_type": "code",
   "execution_count": 77,
   "id": "c31c33e4",
   "metadata": {},
   "outputs": [
    {
     "name": "stdout",
     "output_type": "stream",
     "text": [
      "Total texts: 2444\n"
     ]
    },
    {
     "data": {
      "text/html": [
       "<div>\n",
       "<style scoped>\n",
       "    .dataframe tbody tr th:only-of-type {\n",
       "        vertical-align: middle;\n",
       "    }\n",
       "\n",
       "    .dataframe tbody tr th {\n",
       "        vertical-align: top;\n",
       "    }\n",
       "\n",
       "    .dataframe thead th {\n",
       "        text-align: right;\n",
       "    }\n",
       "</style>\n",
       "<table border=\"1\" class=\"dataframe\">\n",
       "  <thead>\n",
       "    <tr style=\"text-align: right;\">\n",
       "      <th></th>\n",
       "      <th>Title</th>\n",
       "      <th>Relevancy</th>\n",
       "      <th>Source</th>\n",
       "      <th>Description</th>\n",
       "    </tr>\n",
       "  </thead>\n",
       "  <tbody>\n",
       "    <tr>\n",
       "      <th>0</th>\n",
       "      <td>Apple Gangnam now open in South Korea</td>\n",
       "      <td>irrelevant</td>\n",
       "      <td>Apple</td>\n",
       "      <td>Apple Gangnam now open in South KoreaThe new s...</td>\n",
       "    </tr>\n",
       "    <tr>\n",
       "      <th>1</th>\n",
       "      <td>At Exceptional Minds, autistic artists turn cr...</td>\n",
       "      <td>irrelevant</td>\n",
       "      <td>Apple</td>\n",
       "      <td>At Exceptional Minds, autistic artists turn cr...</td>\n",
       "    </tr>\n",
       "    <tr>\n",
       "      <th>2</th>\n",
       "      <td>Apple Gangnam will welcome first customers thi...</td>\n",
       "      <td>relevant</td>\n",
       "      <td>Apple</td>\n",
       "      <td>Apple Gangnam will welcome first customers thi...</td>\n",
       "    </tr>\n",
       "    <tr>\n",
       "      <th>3</th>\n",
       "      <td>Apple introduces Apple Pay Later</td>\n",
       "      <td>irrelevant</td>\n",
       "      <td>Apple</td>\n",
       "      <td>Apple introduces Apple Pay LaterApple today in...</td>\n",
       "    </tr>\n",
       "    <tr>\n",
       "      <th>4</th>\n",
       "      <td>Apple Music Classical is here</td>\n",
       "      <td>irrelevant</td>\n",
       "      <td>Apple</td>\n",
       "      <td>Apple Music Classical is hereApple today launc...</td>\n",
       "    </tr>\n",
       "  </tbody>\n",
       "</table>\n",
       "</div>"
      ],
      "text/plain": [
       "                                               Title   Relevancy Source   \n",
       "0              Apple Gangnam now open in South Korea  irrelevant  Apple  \\\n",
       "1  At Exceptional Minds, autistic artists turn cr...  irrelevant  Apple   \n",
       "2  Apple Gangnam will welcome first customers thi...    relevant  Apple   \n",
       "3                   Apple introduces Apple Pay Later  irrelevant  Apple   \n",
       "4                      Apple Music Classical is here  irrelevant  Apple   \n",
       "\n",
       "                                         Description  \n",
       "0  Apple Gangnam now open in South KoreaThe new s...  \n",
       "1  At Exceptional Minds, autistic artists turn cr...  \n",
       "2  Apple Gangnam will welcome first customers thi...  \n",
       "3  Apple introduces Apple Pay LaterApple today in...  \n",
       "4  Apple Music Classical is hereApple today launc...  "
      ]
     },
     "execution_count": 77,
     "metadata": {},
     "output_type": "execute_result"
    }
   ],
   "source": [
    "dataset = pd.read_excel('news_relevancy.xlsx')\n",
    "print(f\"Total texts: {len(dataset)}\")\n",
    "dataset.head()"
   ]
  },
  {
   "cell_type": "code",
   "execution_count": 78,
   "id": "b630c92c",
   "metadata": {},
   "outputs": [],
   "source": [
    "output_df = dataset.fillna(\"\")\n",
    "\n",
    "#remove non-english developments and drop duplicates\n",
    "output_df['Title'] = output_df['Title'].astype(str)\n",
    "# output_df = output_df[output_df.Title.map(lambda x:x.isascii())]\n",
    "# output_df = output_df[output_df.Description.map(lambda x:x.isascii())]\n",
    "\n",
    "output_df = output_df.drop_duplicates(subset=['Title'], keep = \"first\")\n",
    "\n",
    "#combine title and description to use as training data\n",
    "output_df['Description'] = output_df['Title'].astype(str) + ' ' + output_df[\"Description\"].astype(str)\n",
    "\n",
    "lemmatizer = WordNetLemmatizer()\n",
    "stemmer = PorterStemmer()\n",
    "stopwords_eng = stopwords.words('english')\n",
    "\n",
    "stopwords_eng += ['p', 'style', 'float', 'right', 'margin', '10px', '15px', 'width', 'height','240px',\n",
    "                  'img', 'src', 'https', 'images', 'com', 'href', 'source', 'jpg', 'cointelegraph', 'www', \"768x576\",\n",
    "                 \"rss\", \"feed\", \"amp\", \"dmc\" \"iar\", \"thn\", \"udi\", \"hash\", \"div\"]\n",
    "\n",
    "def preprocess(sentence):\n",
    "    sentence=str(sentence)\n",
    "    sentence = sentence.lower()\n",
    "    sentence=sentence.replace('{html}',\"\")\n",
    "    cleanr = re.compile('<.*?>')\n",
    "    cleantext = re.sub(cleanr, '', sentence)\n",
    "    rem_url=re.sub(r'http\\S+', '',cleantext)\n",
    "#     rem_num = re.sub('[0-9]+', '', rem_url)\n",
    "    tokenizer = RegexpTokenizer(r'\\w+')\n",
    "    tokens = tokenizer.tokenize(rem_url) \n",
    "    filtered_words = [w for w in tokens if len(w) >= 2 and len(w) < 25 if not w in stopwords_eng and not w.isdigit()]\n",
    "    stem_words=[stemmer.stem(w) for w in filtered_words]\n",
    "    lemma_words=[lemmatizer.lemmatize(w) for w in stem_words]\n",
    "    return \" \".join(filtered_words)\n",
    "\n",
    "output_df['cleanText']=output_df['Description'].map(lambda s:preprocess(s))\n",
    "\n",
    "dataset=output_df"
   ]
  },
  {
   "cell_type": "code",
   "execution_count": 79,
   "id": "e733dd19",
   "metadata": {},
   "outputs": [],
   "source": [
    "from nltk.corpus import stopwords\n",
    "stop = stopwords.words('english')\n",
    "NEWLINE = '\\n'\n",
    "\n",
    "#We will add two more columns to our dataframe for tokenized text and token count.\n",
    "def token_count(row):\n",
    "    'returns token count'\n",
    "    text=row['tokenized_text']\n",
    "    length=len(text.split())\n",
    "    return length\n",
    "\n",
    "def tokenize(row):\n",
    "    \"tokenize the text using default space tokenizer\"\n",
    "    text=row['cleanText']\n",
    "    lines=(line for line in text.split(NEWLINE) )\n",
    "    tokenized=\"\"\n",
    "    for sentence in lines:\n",
    "        tokenized+= \" \".join(tok for tok in sentence.split())\n",
    "    return tokenized"
   ]
  },
  {
   "cell_type": "code",
   "execution_count": 80,
   "id": "603313e3",
   "metadata": {},
   "outputs": [
    {
     "data": {
      "text/html": [
       "<div>\n",
       "<style scoped>\n",
       "    .dataframe tbody tr th:only-of-type {\n",
       "        vertical-align: middle;\n",
       "    }\n",
       "\n",
       "    .dataframe tbody tr th {\n",
       "        vertical-align: top;\n",
       "    }\n",
       "\n",
       "    .dataframe thead th {\n",
       "        text-align: right;\n",
       "    }\n",
       "</style>\n",
       "<table border=\"1\" class=\"dataframe\">\n",
       "  <thead>\n",
       "    <tr style=\"text-align: right;\">\n",
       "      <th></th>\n",
       "      <th>Title</th>\n",
       "      <th>Relevancy</th>\n",
       "      <th>Source</th>\n",
       "      <th>Description</th>\n",
       "      <th>cleanText</th>\n",
       "      <th>tokenized_text</th>\n",
       "      <th>token_count</th>\n",
       "    </tr>\n",
       "  </thead>\n",
       "  <tbody>\n",
       "    <tr>\n",
       "      <th>0</th>\n",
       "      <td>Apple Gangnam now open in South Korea</td>\n",
       "      <td>irrelevant</td>\n",
       "      <td>Apple</td>\n",
       "      <td>Apple Gangnam now open in South Korea Apple Ga...</td>\n",
       "      <td>apple gangnam open south korea apple gangnam o...</td>\n",
       "      <td>apple gangnam open south korea apple gangnam o...</td>\n",
       "      <td>24</td>\n",
       "    </tr>\n",
       "    <tr>\n",
       "      <th>1</th>\n",
       "      <td>At Exceptional Minds, autistic artists turn cr...</td>\n",
       "      <td>irrelevant</td>\n",
       "      <td>Apple</td>\n",
       "      <td>At Exceptional Minds, autistic artists turn cr...</td>\n",
       "      <td>exceptional minds autistic artists turn creati...</td>\n",
       "      <td>exceptional minds autistic artists turn creati...</td>\n",
       "      <td>27</td>\n",
       "    </tr>\n",
       "    <tr>\n",
       "      <th>2</th>\n",
       "      <td>Apple Gangnam will welcome first customers thi...</td>\n",
       "      <td>relevant</td>\n",
       "      <td>Apple</td>\n",
       "      <td>Apple Gangnam will welcome first customers thi...</td>\n",
       "      <td>apple gangnam welcome first customers friday m...</td>\n",
       "      <td>apple gangnam welcome first customers friday m...</td>\n",
       "      <td>30</td>\n",
       "    </tr>\n",
       "    <tr>\n",
       "      <th>3</th>\n",
       "      <td>Apple introduces Apple Pay Later</td>\n",
       "      <td>irrelevant</td>\n",
       "      <td>Apple</td>\n",
       "      <td>Apple introduces Apple Pay Later Apple introdu...</td>\n",
       "      <td>apple introduces apple pay later apple introdu...</td>\n",
       "      <td>apple introduces apple pay later apple introdu...</td>\n",
       "      <td>26</td>\n",
       "    </tr>\n",
       "    <tr>\n",
       "      <th>4</th>\n",
       "      <td>Apple Music Classical is here</td>\n",
       "      <td>irrelevant</td>\n",
       "      <td>Apple</td>\n",
       "      <td>Apple Music Classical is here Apple Music Clas...</td>\n",
       "      <td>apple music classical apple music classical he...</td>\n",
       "      <td>apple music classical apple music classical he...</td>\n",
       "      <td>23</td>\n",
       "    </tr>\n",
       "  </tbody>\n",
       "</table>\n",
       "</div>"
      ],
      "text/plain": [
       "                                               Title   Relevancy Source   \n",
       "0              Apple Gangnam now open in South Korea  irrelevant  Apple  \\\n",
       "1  At Exceptional Minds, autistic artists turn cr...  irrelevant  Apple   \n",
       "2  Apple Gangnam will welcome first customers thi...    relevant  Apple   \n",
       "3                   Apple introduces Apple Pay Later  irrelevant  Apple   \n",
       "4                      Apple Music Classical is here  irrelevant  Apple   \n",
       "\n",
       "                                         Description   \n",
       "0  Apple Gangnam now open in South Korea Apple Ga...  \\\n",
       "1  At Exceptional Minds, autistic artists turn cr...   \n",
       "2  Apple Gangnam will welcome first customers thi...   \n",
       "3  Apple introduces Apple Pay Later Apple introdu...   \n",
       "4  Apple Music Classical is here Apple Music Clas...   \n",
       "\n",
       "                                           cleanText   \n",
       "0  apple gangnam open south korea apple gangnam o...  \\\n",
       "1  exceptional minds autistic artists turn creati...   \n",
       "2  apple gangnam welcome first customers friday m...   \n",
       "3  apple introduces apple pay later apple introdu...   \n",
       "4  apple music classical apple music classical he...   \n",
       "\n",
       "                                      tokenized_text  token_count  \n",
       "0  apple gangnam open south korea apple gangnam o...           24  \n",
       "1  exceptional minds autistic artists turn creati...           27  \n",
       "2  apple gangnam welcome first customers friday m...           30  \n",
       "3  apple introduces apple pay later apple introdu...           26  \n",
       "4  apple music classical apple music classical he...           23  "
      ]
     },
     "execution_count": 80,
     "metadata": {},
     "output_type": "execute_result"
    }
   ],
   "source": [
    "dataset['tokenized_text']=dataset.apply(tokenize, axis=1)\n",
    "dataset['token_count']=dataset.apply(token_count, axis=1)\n",
    "# Checking the data\n",
    "dataset.head()"
   ]
  },
  {
   "cell_type": "code",
   "execution_count": 23,
   "id": "fb45d712",
   "metadata": {},
   "outputs": [],
   "source": [
    "dataset['tokenized_text'] = dataset['tokenized_text'].apply(lambda x: ' '.join([word for word in x.split() if word not in (stop)]))"
   ]
  },
  {
   "cell_type": "code",
   "execution_count": 24,
   "id": "b6a5a519",
   "metadata": {},
   "outputs": [],
   "source": [
    "from nltk.stem import *\n",
    "from nltk.stem.porter import *\n",
    "stemmer = PorterStemmer()\n",
    "\n",
    "dataset['tokenized_text'] = dataset['tokenized_text'].apply(lambda x: ' '.join([stemmer.stem(word) for word in x.split()]))"
   ]
  },
  {
   "cell_type": "code",
   "execution_count": 25,
   "id": "6c6d7109",
   "metadata": {},
   "outputs": [],
   "source": [
    "import nltk\n",
    "# nltk.download('wordnet')\n",
    "from nltk.stem.wordnet import WordNetLemmatizer\n",
    "lemmatizer = WordNetLemmatizer()\n",
    "dataset['tokenized_text'] = dataset['tokenized_text'].apply(lambda x: \" \".join([lemmatizer.lemmatize(word) for word in x.split()]))\n",
    "# test_data['tokenized_text'] = test_data['tokenized_text'].apply(lambda x: \" \".join([lemmatizer.lemmatize(word) for word in x.split()]))"
   ]
  },
  {
   "cell_type": "code",
   "execution_count": 26,
   "id": "ea7569cd",
   "metadata": {},
   "outputs": [
    {
     "name": "stdout",
     "output_type": "stream",
     "text": [
      "total titles :  2444\n",
      "total relevant :  625\n",
      "total irrelevant :  1819\n"
     ]
    }
   ],
   "source": [
    "# Lets look at some information related to the data\n",
    "df=dataset\n",
    "print(\"total titles : \", len(df))\n",
    "print  (\"total relevant : \", len(df[df['Relevancy']=='relevant']) )\n",
    "print  (\"total irrelevant : \", len(df[df['Relevancy']=='irrelevant']) )"
   ]
  },
  {
   "cell_type": "code",
   "execution_count": 27,
   "id": "64977f4b",
   "metadata": {},
   "outputs": [],
   "source": [
    "# We randomize the rows to subset the dataframe\n",
    "df.reset_index(inplace=True)\n",
    "df=df.reindex(np.random.permutation(df.index))"
   ]
  },
  {
   "cell_type": "code",
   "execution_count": 28,
   "id": "75a5cf19",
   "metadata": {},
   "outputs": [
    {
     "name": "stdout",
     "output_type": "stream",
     "text": [
      "total articles for unseen test data :  1000\n",
      "\t total relevant text for enron  :  1000\n",
      "\t total irrelevant text for enron  :  1000\n",
      "\n",
      "total articles for model training/validation :  1444\n",
      "\t total relevant text for enron  :  360\n",
      "\t total irrelevant text for enron  :  1084\n"
     ]
    }
   ],
   "source": [
    "len_unseen = 1000\n",
    "df_unseen_test= df.iloc[:len_unseen]\n",
    "df_model = df.iloc[len_unseen:]\n",
    "\n",
    "print('total articles for unseen test data : ', len(df_unseen_test))\n",
    "print('\\t total relevant text for enron  : ', len(df_unseen_test['Relevancy']=='relevant'))\n",
    "print('\\t total irrelevant text for enron  : ', len(df_unseen_test['Relevancy']=='irrelevant'))\n",
    "print()\n",
    "\n",
    "print('total articles for model training/validation : ', len(df_model))\n",
    "print('\\t total relevant text for enron  : ', len(df_model[(df_model['Relevancy']=='relevant')]))\n",
    "print('\\t total irrelevant text for enron  : ', len(df_model[(df_model['Relevancy']=='irrelevant')]))"
   ]
  },
  {
   "cell_type": "code",
   "execution_count": 81,
   "id": "4401c888",
   "metadata": {},
   "outputs": [],
   "source": [
    "import keras\n",
    "\n",
    "from keras.layers import Input, Dense\n",
    "from keras.models import Model,load_model\n",
    "from keras.layers import Input, Dense\n",
    "from keras.models import Model\n",
    "from keras import regularizers\n",
    "\n",
    "from keras.preprocessing.text import Tokenizer\n",
    "from keras.models import Sequential\n",
    "from keras.layers import Dense, Dropout, Activation\n",
    "from keras.callbacks import ModelCheckpoint, TensorBoard\n",
    "\n",
    "import sklearn\n",
    "from sklearn import metrics\n",
    "from sklearn import svm\n",
    "import joblib\n",
    "from sklearn.preprocessing import LabelEncoder"
   ]
  },
  {
   "cell_type": "code",
   "execution_count": 115,
   "id": "881a27a3",
   "metadata": {},
   "outputs": [],
   "source": [
    "# max number of features\n",
    "num_max = 10000"
   ]
  },
  {
   "cell_type": "code",
   "execution_count": 116,
   "id": "a9d69ab4",
   "metadata": {},
   "outputs": [],
   "source": [
    "import time\n",
    "\n",
    "def train_tf_idf_model(texts):\n",
    "    \"train tf idf model \"\n",
    "    tic = time.process_time()\n",
    "    \n",
    "    tok = Tokenizer(num_words=num_max)\n",
    "    tok.fit_on_texts(texts)\n",
    "    toc = time.process_time()\n",
    "\n",
    "    print (\" -----total Computation time = \" + str((toc - tic)) + \" seconds\")\n",
    "    return tok\n",
    "\n",
    "def prepare_model_input(tfidf_model,dataframe,mode='tfidf'):\n",
    "    \n",
    "    \"function to prepare data input features using tfidf model\"\n",
    "    tic = time.process_time()\n",
    "    le = LabelEncoder()\n",
    "    sample_texts = list(dataframe['tokenized_text'])\n",
    "    sample_texts = [' '.join(x.split()) for x in sample_texts]\n",
    "    \n",
    "    targets=list(dataframe['Relevancy'])\n",
    "    targets = [1. if x=='relevant' else 0. for x in targets]\n",
    "    sample_target = le.fit_transform(targets)\n",
    "    \n",
    "    if mode=='tfidf':\n",
    "        sample_texts=tfidf_model.texts_to_matrix(sample_texts,mode='tfidf')\n",
    "    else:\n",
    "        sample_texts=tfidf_model.texts_to_matrix(sample_texts)\n",
    "    \n",
    "    toc = time.process_time()\n",
    "    \n",
    "    print('shape of Relevancy: ', sample_target.shape)\n",
    "    print('shape of data: ', sample_texts.shape)\n",
    "    \n",
    "    print (\" -----total Computation time for preparing model data = \" + str((toc - tic)) + \" seconds\")\n",
    "    \n",
    "    return sample_texts,sample_target"
   ]
  },
  {
   "cell_type": "code",
   "execution_count": 117,
   "id": "1932ca2f",
   "metadata": {},
   "outputs": [
    {
     "name": "stdout",
     "output_type": "stream",
     "text": [
      " -----total Computation time = 0.046875 seconds\n"
     ]
    }
   ],
   "source": [
    "texts=list(df_model['tokenized_text'])\n",
    "tfidf_model=train_tf_idf_model(texts)"
   ]
  },
  {
   "cell_type": "code",
   "execution_count": 118,
   "id": "c3828d93",
   "metadata": {},
   "outputs": [
    {
     "name": "stdout",
     "output_type": "stream",
     "text": [
      "shape of Relevancy:  (1444,)\n",
      "shape of data:  (1444, 10000)\n",
      " -----total Computation time for preparing model data = 0.125 seconds\n"
     ]
    }
   ],
   "source": [
    "# prepare model input data\n",
    "mat_texts,tags=prepare_model_input(tfidf_model,df_model,mode='tfidf')"
   ]
  },
  {
   "cell_type": "code",
   "execution_count": 119,
   "id": "ffa8ac8b",
   "metadata": {},
   "outputs": [
    {
     "name": "stdout",
     "output_type": "stream",
     "text": [
      "train data shape:  (866, 10000) (866,)\n",
      "validation data shape : (578, 10000) (578,)\n"
     ]
    }
   ],
   "source": [
    "#Splitting Training and Testing Data\n",
    "\n",
    "from sklearn.model_selection import train_test_split\n",
    "\n",
    "X_train, X_val, y_train, y_val = train_test_split(mat_texts, tags, test_size=0.40)\n",
    "print ('train data shape: ', X_train.shape, y_train.shape)\n",
    "print ('validation data shape :' , X_val.shape, y_val.shape)"
   ]
  },
  {
   "cell_type": "code",
   "execution_count": 120,
   "id": "c81d0812",
   "metadata": {},
   "outputs": [],
   "source": [
    "## Define and initialize the network\n",
    "\n",
    "model_save_path=\"model/relevancy_detector\""
   ]
  },
  {
   "cell_type": "code",
   "execution_count": 121,
   "id": "a221bd33",
   "metadata": {},
   "outputs": [],
   "source": [
    "import datetime\n",
    "def get_simple_model():\n",
    "    model = Sequential()\n",
    "    model.add(Dense(512, activation='relu', input_shape=(num_max,)))\n",
    "    model.add(Dropout(0.5))\n",
    "    model.add(Dense(256, activation='relu'))\n",
    "    model.add(Dropout(0.5))\n",
    "    model.add(Dense(1, activation='sigmoid'))\n",
    "    model.summary()\n",
    "    model.compile(loss='binary_crossentropy',\n",
    "              optimizer='adam',\n",
    "              metrics=['acc',keras.metrics.binary_accuracy])\n",
    "    print('compile done')\n",
    "    return model\n",
    "\n",
    "def check_model(model,x,y,epochs=2):\n",
    "    history=model.fit(x,y,batch_size=32,epochs=epochs,verbose=1,shuffle=True,validation_split=0.2,\n",
    "              callbacks=[checkpointer, tensorboard]).history\n",
    "    return history\n",
    "\n",
    "\n",
    "def check_model2(model,x_train,y_train,x_val,y_val,epochs=10):\n",
    "    history=model.fit(x_train,y_train,batch_size=64,\n",
    "                      epochs=epochs,verbose=1,\n",
    "                      shuffle=True,\n",
    "                      validation_data=(x_val, y_val)).history\n",
    "    return history\n",
    "\n",
    "# define checkpointer\n",
    "checkpointer = ModelCheckpoint(filepath=model_save_path,\n",
    "                               verbose=1,\n",
    "                               save_best_only=True)    \n",
    "\n",
    "\n",
    "# define tensorboard\n",
    "tensorboard = TensorBoard(log_dir = os.path.join(\"logs\",\"fit\",datetime.datetime.now().strftime(\"%Y%m%d-%H%M%S\")),\n",
    "                          histogram_freq=0,\n",
    "                          write_graph=True,\n",
    "                          write_images=True)\n",
    "\n",
    "\n",
    "\n",
    "\n",
    "# define the predict function for the deep learning model for later use\n",
    "def predict(data):\n",
    "    result=model.predict(data)\n",
    "    prediction = [round(x[0]) for x in result]\n",
    "    return prediction"
   ]
  },
  {
   "cell_type": "code",
   "execution_count": 122,
   "id": "c3b85315",
   "metadata": {},
   "outputs": [
    {
     "name": "stdout",
     "output_type": "stream",
     "text": [
      "Model: \"sequential_8\"\n",
      "_________________________________________________________________\n",
      " Layer (type)                Output Shape              Param #   \n",
      "=================================================================\n",
      " dense_24 (Dense)            (None, 512)               5120512   \n",
      "                                                                 \n",
      " dropout_16 (Dropout)        (None, 512)               0         \n",
      "                                                                 \n",
      " dense_25 (Dense)            (None, 256)               131328    \n",
      "                                                                 \n",
      " dropout_17 (Dropout)        (None, 256)               0         \n",
      "                                                                 \n",
      " dense_26 (Dense)            (None, 1)                 257       \n",
      "                                                                 \n",
      "=================================================================\n",
      "Total params: 5,252,097\n",
      "Trainable params: 5,252,097\n",
      "Non-trainable params: 0\n",
      "_________________________________________________________________\n",
      "compile done\n",
      "Epoch 1/10\n",
      "14/14 [==============================] - 1s 29ms/step - loss: 0.6272 - acc: 0.7159 - binary_accuracy: 0.7159 - val_loss: 0.4377 - val_acc: 0.8512 - val_binary_accuracy: 0.8512\n",
      "Epoch 2/10\n",
      "14/14 [==============================] - 0s 20ms/step - loss: 0.2931 - acc: 0.9053 - binary_accuracy: 0.9053 - val_loss: 0.3427 - val_acc: 0.8737 - val_binary_accuracy: 0.8737\n",
      "Epoch 3/10\n",
      "14/14 [==============================] - 0s 21ms/step - loss: 0.0888 - acc: 0.9861 - binary_accuracy: 0.9861 - val_loss: 0.3419 - val_acc: 0.8599 - val_binary_accuracy: 0.8599\n",
      "Epoch 4/10\n",
      "14/14 [==============================] - 0s 23ms/step - loss: 0.0284 - acc: 0.9954 - binary_accuracy: 0.9954 - val_loss: 0.3887 - val_acc: 0.8685 - val_binary_accuracy: 0.8685\n",
      "Epoch 5/10\n",
      "14/14 [==============================] - 0s 20ms/step - loss: 0.0093 - acc: 0.9988 - binary_accuracy: 0.9988 - val_loss: 0.4330 - val_acc: 0.8668 - val_binary_accuracy: 0.8668\n",
      "Epoch 6/10\n",
      "14/14 [==============================] - 0s 21ms/step - loss: 0.0034 - acc: 1.0000 - binary_accuracy: 1.0000 - val_loss: 0.4638 - val_acc: 0.8633 - val_binary_accuracy: 0.8633\n",
      "Epoch 7/10\n",
      "14/14 [==============================] - 0s 21ms/step - loss: 0.0022 - acc: 1.0000 - binary_accuracy: 1.0000 - val_loss: 0.4766 - val_acc: 0.8633 - val_binary_accuracy: 0.8633\n",
      "Epoch 8/10\n",
      "14/14 [==============================] - 0s 23ms/step - loss: 0.0025 - acc: 1.0000 - binary_accuracy: 1.0000 - val_loss: 0.4861 - val_acc: 0.8599 - val_binary_accuracy: 0.8599\n",
      "Epoch 9/10\n",
      "14/14 [==============================] - 0s 21ms/step - loss: 0.0012 - acc: 1.0000 - binary_accuracy: 1.0000 - val_loss: 0.4947 - val_acc: 0.8599 - val_binary_accuracy: 0.8599\n",
      "Epoch 10/10\n",
      "14/14 [==============================] - 0s 20ms/step - loss: 9.2880e-04 - acc: 1.0000 - binary_accuracy: 1.0000 - val_loss: 0.5048 - val_acc: 0.8599 - val_binary_accuracy: 0.8599\n"
     ]
    }
   ],
   "source": [
    "# get the compiled model\n",
    "model = get_simple_model()\n",
    "\n",
    "# load history\n",
    "# history=check_model(m,mat_texts,tags,epochs=10)\n",
    "history=check_model2(model,X_train,y_train,X_val,y_val,epochs=10)"
   ]
  },
  {
   "cell_type": "code",
   "execution_count": 123,
   "id": "2c85e647",
   "metadata": {},
   "outputs": [
    {
     "data": {
      "image/png": "[encoded data removed]",
      "text/plain": [
       "<Figure size 640x480 with 1 Axes>"
      ]
     },
     "metadata": {},
     "output_type": "display_data"
    }
   ],
   "source": [
    "# plot the loss on train and validation data\n",
    "plt.plot(history['loss'])\n",
    "plt.plot(history['val_loss'])\n",
    "plt.title('Article Relevancy Filter Model loss')\n",
    "plt.ylabel('loss')\n",
    "plt.xlabel('epoch')\n",
    "plt.legend(['train', 'test'], loc='upper right');"
   ]
  },
  {
   "cell_type": "code",
   "execution_count": 124,
   "id": "99167c4f",
   "metadata": {},
   "outputs": [
    {
     "name": "stdout",
     "output_type": "stream",
     "text": [
      "shape of Relevancy:  (1000,)\n",
      "shape of data:  (1000, 10000)\n",
      " -----total Computation time for preparing model data = 0.421875 seconds\n"
     ]
    }
   ],
   "source": [
    "sample_texts,sample_target=prepare_model_input(tfidf_model,df_unseen_test,mode='')"
   ]
  },
  {
   "cell_type": "code",
   "execution_count": 125,
   "id": "d382b59c",
   "metadata": {},
   "outputs": [],
   "source": [
    "model_dict={}\n",
    "# model_dict['random_forest']=spam_model_rf\n",
    "model_dict['neural_networks']=model"
   ]
  },
  {
   "cell_type": "code",
   "execution_count": 126,
   "id": "4dd41131",
   "metadata": {},
   "outputs": [],
   "source": [
    "def getResults(model_dict,sample_texts,sample_target):\n",
    "    '''\n",
    "    Get results from different models\n",
    "    '''\n",
    "    results=[]\n",
    "    \n",
    "    results_cm={}\n",
    "    \n",
    "    for name,model in model_dict.items():\n",
    "#         print(name)\n",
    "        tic1 = time.process_time()\n",
    "        if name in 'neural_networks':\n",
    "            predicted_sample = predict(sample_texts)\n",
    "            cm=sklearn.metrics.confusion_matrix(sample_target, predicted_sample)\n",
    "        else:    \n",
    "            predicted_sample = model.predict(sample_texts)\n",
    "            cm=sklearn.metrics.confusion_matrix(sample_target, predicted_sample.round())\n",
    "            \n",
    "        toc1 = time.process_time()\n",
    "#         print(predicted_sample)\n",
    "\n",
    "        \n",
    "        results_cm[name]=cm\n",
    "        \n",
    "        total=len(predicted_sample)\n",
    "        TP = cm[0][0]\n",
    "        FP = cm[0][1]\n",
    "        FN = cm[1][0]\n",
    "        TN = cm[1][1]\n",
    "        \n",
    "        time_taken=round(toc1 - tic1,4)\n",
    "        res=sklearn.metrics.precision_recall_fscore_support(sample_target, predicted_sample)\n",
    "        accuracy=sklearn.metrics.accuracy_score(sample_target, predicted_sample)\n",
    "        results.append([name,np.mean(res[0]),np.mean(res[1]),np.mean(res[2]),accuracy,TP,FP,FN,TN,str(time_taken)] )\n",
    "        \n",
    "    \n",
    "    df_cols=['model','precision','recall','f1_score','Accuracy','TP','FP','FN','TN','execution_time']\n",
    "    result_df=pd.DataFrame(results,columns=df_cols)\n",
    "    \n",
    "    return result_df,results_cm\n",
    "    "
   ]
  },
  {
   "cell_type": "code",
   "execution_count": 127,
   "id": "5fc1ed9f",
   "metadata": {},
   "outputs": [
    {
     "name": "stdout",
     "output_type": "stream",
     "text": [
      "32/32 [==============================] - 0s 4ms/step\n"
     ]
    },
    {
     "data": {
      "text/html": [
       "<div>\n",
       "<style scoped>\n",
       "    .dataframe tbody tr th:only-of-type {\n",
       "        vertical-align: middle;\n",
       "    }\n",
       "\n",
       "    .dataframe tbody tr th {\n",
       "        vertical-align: top;\n",
       "    }\n",
       "\n",
       "    .dataframe thead th {\n",
       "        text-align: right;\n",
       "    }\n",
       "</style>\n",
       "<table border=\"1\" class=\"dataframe\">\n",
       "  <thead>\n",
       "    <tr style=\"text-align: right;\">\n",
       "      <th></th>\n",
       "      <th>model</th>\n",
       "      <th>precision</th>\n",
       "      <th>recall</th>\n",
       "      <th>f1_score</th>\n",
       "      <th>Accuracy</th>\n",
       "      <th>TP</th>\n",
       "      <th>FP</th>\n",
       "      <th>FN</th>\n",
       "      <th>TN</th>\n",
       "      <th>execution_time</th>\n",
       "    </tr>\n",
       "  </thead>\n",
       "  <tbody>\n",
       "    <tr>\n",
       "      <th>0</th>\n",
       "      <td>neural_networks</td>\n",
       "      <td>0.811333</td>\n",
       "      <td>0.799705</td>\n",
       "      <td>0.805171</td>\n",
       "      <td>0.851</td>\n",
       "      <td>668</td>\n",
       "      <td>67</td>\n",
       "      <td>82</td>\n",
       "      <td>183</td>\n",
       "      <td>0.5781</td>\n",
       "    </tr>\n",
       "  </tbody>\n",
       "</table>\n",
       "</div>"
      ],
      "text/plain": [
       "             model  precision    recall  f1_score  Accuracy   TP  FP  FN   TN   \n",
       "0  neural_networks   0.811333  0.799705  0.805171     0.851  668  67  82  183  \\\n",
       "\n",
       "  execution_time  \n",
       "0         0.5781  "
      ]
     },
     "execution_count": 127,
     "metadata": {},
     "output_type": "execute_result"
    }
   ],
   "source": [
    "result_df,results_cm= getResults(model_dict,sample_texts,sample_target)\n",
    "result_df"
   ]
  },
  {
   "cell_type": "code",
   "execution_count": 128,
   "id": "57b9cc1d",
   "metadata": {},
   "outputs": [
    {
     "name": "stdout",
     "output_type": "stream",
     "text": [
      "NEURAL NETWORK:\n",
      "irrelevant Misclassification Rate:  0.268\n",
      "relevant Misclassification Rate:  0.10933333333333334\n"
     ]
    }
   ],
   "source": [
    "#NN SMR AND HMR COMPUTATION\n",
    "result_df.iloc[0][5]\n",
    "HMR = float(result_df.iloc[0][6] / (result_df.iloc[0][8] + result_df.iloc[0][6]))\n",
    "SMR = float(result_df.iloc[0][7] / (result_df.iloc[0][5] + result_df.iloc[0][7]))\n",
    "\n",
    "print(\"NEURAL NETWORK:\")\n",
    "print(\"irrelevant Misclassification Rate: \",HMR)\n",
    "print(\"relevant Misclassification Rate: \", SMR)"
   ]
  },
  {
   "cell_type": "code",
   "execution_count": 129,
   "id": "10d5ec22",
   "metadata": {},
   "outputs": [],
   "source": [
    "def plot_heatmap(cm,title):\n",
    "    df_cm2 = pd.DataFrame(cm, index = ['irrelevant', 'relevant'])\n",
    "    df_cm2.columns=['irrelevant','relevant']\n",
    "\n",
    "    ax = plt.axes()\n",
    "    sns.heatmap(df_cm2, annot=True, fmt=\"d\", linewidths=.5,ax=ax)\n",
    "    ax.set_title(title)\n",
    "    plt.show()\n",
    "\n",
    "    \n",
    "    return"
   ]
  },
  {
   "cell_type": "code",
   "execution_count": 130,
   "id": "7a5cba61",
   "metadata": {},
   "outputs": [
    {
     "data": {
      "image/png": "[encoded data removed]",
      "text/plain": [
       "<Figure size 640x480 with 2 Axes>"
      ]
     },
     "metadata": {},
     "output_type": "display_data"
    }
   ],
   "source": [
    "plot_heatmap(results_cm['neural_networks'],'Neural Networks')"
   ]
  },
  {
   "cell_type": "code",
   "execution_count": null,
   "id": "142e8610",
   "metadata": {},
   "outputs": [],
   "source": []
  }
 ],
 "metadata": {
  "kernelspec": {
   "display_name": "py39",
   "language": "python",
   "name": "py39"
  },
  "language_info": {
   "codemirror_mode": {
    "name": "ipython",
    "version": 3
   },
   "file_extension": ".py",
   "mimetype": "text/x-python",
   "name": "python",
   "nbconvert_exporter": "python",
   "pygments_lexer": "ipython3",
   "version": "3.9.16"
  }
 },
 "nbformat": 4,
 "nbformat_minor": 5
}
